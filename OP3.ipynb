{
 "cells": [
  {
   "cell_type": "markdown",
   "metadata": {},
   "source": [
    "### Data 3 \n",
    "generated"
   ]
  },
  {
   "cell_type": "code",
   "execution_count": 6,
   "metadata": {},
   "outputs": [],
   "source": [
    "import pandas as pd \n",
    "import numpy as np\n",
    "from sklearn.model_selection import train_test_split\n",
    "from mlrose_hiive import DiscreteOpt, RHCRunner, SARunner, GARunner, MIMICRunner,Knapsack\n",
    "import mlrose_hiive\n",
    "from sklearn.metrics import accuracy_score\n",
    "from sklearn.svm import SVC\n",
    "import time "
   ]
  },
  {
   "cell_type": "code",
   "execution_count": 7,
   "metadata": {},
   "outputs": [],
   "source": [
    "weights = np.random.randint(1, 50, 50)\n",
    "values = np.random.randint(1, 50, 50)\n",
    "max_weight = int(0.6 * weights.sum())  \n",
    "problem = Knapsack(weights=weights, values=values )\n",
    "fitness = mlrose_hiive.Knapsack(weights=weights, values=values, max_weight_pct=max_weight)\n",
    "problem = mlrose_hiive.DiscreteOpt(length=50, fitness_fn=fitness, maximize=True, max_val=2)\n"
   ]
  },
  {
   "cell_type": "code",
   "execution_count": null,
   "metadata": {},
   "outputs": [],
   "source": []
  },
  {
   "cell_type": "code",
   "execution_count": null,
   "metadata": {},
   "outputs": [],
   "source": []
  },
  {
   "cell_type": "code",
   "execution_count": null,
   "metadata": {},
   "outputs": [],
   "source": []
  },
  {
   "cell_type": "code",
   "execution_count": null,
   "metadata": {},
   "outputs": [],
   "source": []
  },
  {
   "cell_type": "markdown",
   "metadata": {},
   "source": [
    "### Randomized Hill Climbing"
   ]
  },
  {
   "cell_type": "code",
   "execution_count": 9,
   "metadata": {},
   "outputs": [],
   "source": [
    "RHC =[]\n",
    "for size in range(10,100,10):\n",
    "    st_time=time.time()\n",
    "    RHC_curve = mlrose_hiive.random_hill_climb(problem,restarts=10*size,max_attempts=10,max_iters=size*10,init_state=None,curve=True)\n",
    "    et_time=time.time()\n",
    "    RHC.append([size,et_time-st_time,RHC_curve[2][-1,0],RHC_curve[2][-1,1],RHC_curve[2][-1,1]/(et_time-st_time),RHC_curve[0],RHC_curve[1]])\n"
   ]
  },
  {
   "cell_type": "code",
   "execution_count": null,
   "metadata": {},
   "outputs": [],
   "source": []
  },
  {
   "cell_type": "markdown",
   "metadata": {},
   "source": [
    "### Simulated Annealing"
   ]
  },
  {
   "cell_type": "code",
   "execution_count": 10,
   "metadata": {},
   "outputs": [],
   "source": [
    "SA =[]\n",
    "for size in range(10,100,10):\n",
    "    st_time=time.time()\n",
    "    SA_curve = mlrose_hiive.simulated_annealing(problem,schedule=mlrose_hiive.GeomDecay(),max_attempts=10,init_state=None,max_iters=size*10,curve=True)\n",
    "    et_time=time.time()\n",
    "    SA.append([size,et_time-st_time,SA_curve[2][-1,0],SA_curve[2][-1,1],SA_curve[2][-1,1]/(et_time-st_time),SA_curve[0],SA_curve[1] ])"
   ]
  },
  {
   "cell_type": "code",
   "execution_count": null,
   "metadata": {},
   "outputs": [],
   "source": []
  },
  {
   "cell_type": "code",
   "execution_count": null,
   "metadata": {},
   "outputs": [],
   "source": []
  },
  {
   "cell_type": "markdown",
   "metadata": {},
   "source": [
    "### Genetic Algorithm"
   ]
  },
  {
   "cell_type": "code",
   "execution_count": 11,
   "metadata": {},
   "outputs": [],
   "source": [
    "GA =[]\n",
    "for size in range(10,100,10):\n",
    "    st_time=time.time()\n",
    "    GA_curve = mlrose_hiive.genetic_alg(problem,pop_size=10*size,mutation_prob=0.4,max_attempts=10,max_iters=size*10,curve=True)\n",
    "    et_time=time.time()\n",
    "    GA.append([size,et_time-st_time,GA_curve[2][-1,0],GA_curve[2][-1,1],GA_curve[2][-1,1]/(et_time-st_time),GA_curve[0],GA_curve[1]])\n",
    "    \n",
    "    "
   ]
  },
  {
   "cell_type": "code",
   "execution_count": null,
   "metadata": {},
   "outputs": [],
   "source": []
  },
  {
   "cell_type": "markdown",
   "metadata": {},
   "source": [
    "### MIMIC"
   ]
  },
  {
   "cell_type": "code",
   "execution_count": 12,
   "metadata": {},
   "outputs": [],
   "source": [
    "MIMIC=[]\n",
    "fitness = mlrose_hiive.FourPeaks(t_pct=.5)\n",
    "problem_fit = mlrose_hiive.DiscreteOpt(length = size,fitness_fn = fitness,maximize = True,max_val = 2)\n",
    "    \n",
    "for size in range(10,100,10):\n",
    "    st_time=time.time()\n",
    "    MIMIC_curve = mlrose_hiive.mimic(problem_fit,pop_size=10*size, keep_pct=0.2,max_attempts=10,max_iters=size*10,curve=True)\n",
    "    et_time=time.time()\n",
    "    MIMIC.append([size,et_time-st_time,MIMIC_curve[2][-1,0],MIMIC_curve[2][-1,1],MIMIC_curve[2][-1,1]/(et_time-st_time), MIMIC_curve[0],MIMIC_curve[1]])"
   ]
  },
  {
   "cell_type": "code",
   "execution_count": null,
   "metadata": {},
   "outputs": [],
   "source": []
  },
  {
   "cell_type": "markdown",
   "metadata": {},
   "source": [
    "### Printing param"
   ]
  },
  {
   "cell_type": "code",
   "execution_count": 14,
   "metadata": {},
   "outputs": [
    {
     "data": {
      "text/plain": [
       "<matplotlib.axes._subplots.AxesSubplot at 0x1fb009e6070>"
      ]
     },
     "execution_count": 14,
     "metadata": {},
     "output_type": "execute_result"
    },
    {
     "data": {
      "image/png": "[encoded data removed]",
      "text/plain": [
       "<Figure size 432x288 with 1 Axes>"
      ]
     },
     "metadata": {
      "needs_background": "light"
     },
     "output_type": "display_data"
    }
   ],
   "source": [
    "\n",
    "RHC_df = pd.DataFrame(RHC)[1]\n",
    "GA_df = pd.DataFrame(GA)[1]\n",
    "SA_df = pd.DataFrame(SA)[1]\n",
    "M_df = pd.DataFrame(MIMIC)[1]\n",
    "df = pd.concat([RHC_df,GA_df,SA_df, M_df], ignore_index=True, axis=1)\n",
    "df.index=range(10,100,10)\n",
    "df.columns = [\"RHC\",\"GA\",\"SA\", \"MIMIC\"]\n",
    "df.plot(title=\"Time in (sec) over Data size\")"
   ]
  },
  {
   "cell_type": "code",
   "execution_count": 15,
   "metadata": {},
   "outputs": [
    {
     "data": {
      "text/plain": [
       "<matplotlib.axes._subplots.AxesSubplot at 0x1fb011750d0>"
      ]
     },
     "execution_count": 15,
     "metadata": {},
     "output_type": "execute_result"
    },
    {
     "data": {
      "image/png": "[encoded data removed]",
      "text/plain": [
       "<Figure size 432x288 with 1 Axes>"
      ]
     },
     "metadata": {
      "needs_background": "light"
     },
     "output_type": "display_data"
    }
   ],
   "source": [
    "\n",
    "RHC_df = pd.DataFrame(RHC)[3]\n",
    "GA_df = pd.DataFrame(GA)[3]\n",
    "SA_df = pd.DataFrame(SA)[3]\n",
    "M_df = pd.DataFrame(MIMIC)[3]\n",
    "df = pd.concat([RHC_df,GA_df,SA_df, M_df], ignore_index=True, axis=1)\n",
    "df.index=range(10,100,10)\n",
    "df.columns = [\"RHC\",\"GA\",\"SA\", \"MIMIC\"]\n",
    "df.plot(title=\"Func Eval over Data size\")"
   ]
  },
  {
   "cell_type": "code",
   "execution_count": 16,
   "metadata": {},
   "outputs": [
    {
     "data": {
      "text/plain": [
       "<matplotlib.axes._subplots.AxesSubplot at 0x1fb011df4f0>"
      ]
     },
     "execution_count": 16,
     "metadata": {},
     "output_type": "execute_result"
    },
    {
     "data": {
      "image/png": "[encoded data removed]",
      "text/plain": [
       "<Figure size 432x288 with 1 Axes>"
      ]
     },
     "metadata": {
      "needs_background": "light"
     },
     "output_type": "display_data"
    }
   ],
   "source": [
    "\n",
    "RHC_df = pd.DataFrame(RHC)[4]\n",
    "GA_df = pd.DataFrame(GA)[4]\n",
    "SA_df = pd.DataFrame(SA)[4]\n",
    "M_df = pd.DataFrame(MIMIC)[4]\n",
    "df = pd.concat([RHC_df,GA_df,SA_df, M_df], ignore_index=True, axis=1)\n",
    "df.index=range(10,100,10)\n",
    "df.columns = [\"RHC\",\"GA\",\"SA\", \"MIMIC\"]\n",
    "df.plot(title=\"#Evaluations per Sec  over Data size\")"
   ]
  },
  {
   "cell_type": "code",
   "execution_count": 17,
   "metadata": {},
   "outputs": [
    {
     "name": "stdout",
     "output_type": "stream",
     "text": [
      "Best features \n",
      ".............\n",
      "best state RHC: \n",
      "[1 1 1 1 1 1 1 1 1 1 1 1 1 1 1 1 1 1 1 1 1 1 1 1 1 1 1 1 1 1 1 1 1 1 1 1 1\n",
      " 1 1 1 1 1 1 1 1 1 1 1 1 1]\n",
      "best feature RAC: \n",
      "1388.0\n",
      "best state GA: \n",
      "[1 1 1 1 1 1 1 1 1 1 1 1 1 1 1 1 1 1 1 1 1 1 1 1 1 1 1 1 1 1 1 1 1 1 1 1 1\n",
      " 1 1 1 1 1 1 1 1 1 1 1 1 1]\n",
      "best feature GA: \n",
      "1388.0\n",
      "best state SA: \n",
      "[1 1 1 1 1 1 1 1 1 0 1 0 1 1 1 1 0 1 1 1 1 1 1 1 1 0 1 1 1 1 1 1 1 1 1 1 1\n",
      " 1 1 1 1 1 1 1 1 1 1 1 1 1]\n",
      "best feature SA: \n",
      "1336.0\n",
      "best state MIMIC: \n",
      "[1 1 1 1 1 1 1 1 1 1 1 1 1 1 1 1 0 0 1 1 1 1 1 1 0 1 1 0 0 1 1 0 1 0 1 0 1\n",
      " 0 0 0 1 1 0 0 0 0 1 0 1 0 1 1 1 1 0 0 0 0 0 1 1 0 1 1 1 1 0 0 1 0 0 1 1 0\n",
      " 1 0 0 0 0 1 1 1 1 1 0 0 0 1 0 1]\n",
      "best feature MIMIC: \n",
      "16.0\n"
     ]
    }
   ],
   "source": [
    "print(\"Best features \")\n",
    "print((\".............\"))\n",
    "print(\"best state RHC: \")\n",
    "print(pd.DataFrame(RHC)[5][0])\n",
    "print(\"best feature RAC: \")\n",
    "print(pd.DataFrame(RHC)[6][0])\n",
    "\n",
    "print(\"best state GA: \")\n",
    "print(pd.DataFrame(GA)[5][0])\n",
    "print(\"best feature GA: \")\n",
    "print(pd.DataFrame(GA)[6][0])\n",
    "\n",
    "print(\"best state SA: \")\n",
    "print(pd.DataFrame(SA)[5][0])\n",
    "print(\"best feature SA: \")\n",
    "print(pd.DataFrame(SA)[6][0])\n",
    "\n",
    "print(\"best state MIMIC: \")\n",
    "print(pd.DataFrame(MIMIC)[5][0])\n",
    "print(\"best feature MIMIC: \")\n",
    "print(pd.DataFrame(MIMIC)[6][0])\n",
    "\n"
   ]
  },
  {
   "cell_type": "code",
   "execution_count": null,
   "metadata": {},
   "outputs": [],
   "source": []
  },
  {
   "cell_type": "code",
   "execution_count": null,
   "metadata": {},
   "outputs": [],
   "source": []
  },
  {
   "cell_type": "code",
   "execution_count": null,
   "metadata": {},
   "outputs": [],
   "source": []
  },
  {
   "cell_type": "code",
   "execution_count": null,
   "metadata": {},
   "outputs": [],
   "source": []
  },
  {
   "cell_type": "code",
   "execution_count": null,
   "metadata": {},
   "outputs": [],
   "source": []
  },
  {
   "cell_type": "code",
   "execution_count": null,
   "metadata": {},
   "outputs": [],
   "source": []
  },
  {
   "cell_type": "code",
   "execution_count": null,
   "metadata": {},
   "outputs": [],
   "source": []
  }
 ],
 "metadata": {
  "kernelspec": {
   "display_name": "Python 3",
   "language": "python",
   "name": "python3"
  },
  "language_info": {
   "codemirror_mode": {
    "name": "ipython",
    "version": 3
   },
   "file_extension": ".py",
   "mimetype": "text/x-python",
   "name": "python",
   "nbconvert_exporter": "python",
   "pygments_lexer": "ipython3",
   "version": "3.8.3"
  }
 },
 "nbformat": 4,
 "nbformat_minor": 4
}
